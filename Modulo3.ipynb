{
 "cells": [
  {
   "cell_type": "markdown",
   "metadata": {},
   "source": [
    "# Ejercicios modulo 3\n"
   ]
  },
  {
   "cell_type": "code",
   "execution_count": 20,
   "metadata": {},
   "outputs": [
    {
     "name": "stdout",
     "output_type": "stream",
     "text": [
      "Los numeros son iguales\n"
     ]
    }
   ],
   "source": [
    "a=55\n",
    "b=55\n",
    "if a<b:\n",
    "    print(\"El mayor es b:\",b)\n",
    "elif a>b:\n",
    "    print(\"El mayor es a:\",a)    \n",
    "else:\n",
    "    print(\"Los numeros son iguales\")"
   ]
  },
  {
   "cell_type": "markdown",
   "metadata": {},
   "source": [
    "# Katas Modulo 3\n",
    "\n",
    "Para este ejercicio, escribirás una lógica condicional que imprima una advertencia si un asteroide se acerca a la Tierra demasiado rápido. La velocidad del asteroide varía dependiendo de lo cerca que esté del sol, y cualquier velocidad superior a 25 kilómetros por segundo (km/s) merece una advertencia.\n",
    "\n",
    "Un asteroide se acerca, y viaja a una velocidad de 49 km/s."
   ]
  },
  {
   "cell_type": "code",
   "execution_count": 21,
   "metadata": {},
   "outputs": [
    {
     "name": "stdout",
     "output_type": "stream",
     "text": [
      "ADVERTENCIA, un asteroide se acerca a la Tierra demasiado rapido.\n"
     ]
    }
   ],
   "source": [
    "velocidad=49\n",
    "if velocidad>= 25:\n",
    "    print(\"ADVERTENCIA, un asteroide se acerca a la Tierra demasiado rapido.\")\n",
    "else:\n",
    "      print(\"No existe peligro alguno\")"
   ]
  },
  {
   "cell_type": "markdown",
   "metadata": {},
   "source": [
    "Si un asteroide entra en la atmósfera de la Tierra a una velocidad mayor o igual a 20 km/s, a veces produce un rayo de luz que se puede ver desde la Tierra. Escribe la lógica condicional que usa declaraciones if, else, y elif para alertar a las personas de todo el mundo que deben buscar un asteroide en el cielo. ¡Hay uno que se dirige a la tierra ahora a una velocidad de 19 km/s!"
   ]
  },
  {
   "cell_type": "code",
   "execution_count": 22,
   "metadata": {},
   "outputs": [
    {
     "name": "stdout",
     "output_type": "stream",
     "text": [
      "No existe peligro alguno\n"
     ]
    }
   ],
   "source": [
    "velocidad=19\n",
    "if velocidad>= 20 and velocidad<25:\n",
    "    print(\"Advertencia, Buscar un asteroide en el cielo\")\n",
    "elif velocidad>=25:\n",
    "    print(\"ADVERTENCIA, un asteroide se acerca a la Tierra demasiado rapido.\")\n",
    "else:\n",
    "    print(\"No existe peligro alguno\")"
   ]
  },
  {
   "cell_type": "markdown",
   "metadata": {},
   "source": [
    "*Los asteroides de menos de 25 metros en su dimensión más grande probablemente se quemarán a medida que entren en la atmósfera de la Tierra.\n",
    "\n",
    "    Si una pieza de un asteroide que es más grande que 25 metros pero más pequeña que 1000 metros golpeara la Tierra, causaría mucho daño.\n",
    "\n",
    "También discutimos en el ejercicio anterior que:\n",
    "\n",
    "    La velocidad del asteroide varía en función de lo cerca que esté del sol, y cualquier velocidad superior a 25 kilómetros por segundo (km/s) merece una advertencia.\n",
    "    Si un asteroide entra en la atmósfera de la Tierra a una velocidad mayor o igual a 20 km/s, a veces produce un rayo de luz que se puede ver desde la Tierra.\n"
   ]
  },
  {
   "cell_type": "code",
   "execution_count": 23,
   "metadata": {},
   "outputs": [
    {
     "name": "stdout",
     "output_type": "stream",
     "text": [
      "ADVERTENCIA, un GRAN asteroide se acerca a la Tierra demasiado rapido. PELIGRO\n"
     ]
    }
   ],
   "source": [
    "vel=int(input(\"Introduce la velocidad del asteroide en km/s: \"))\n",
    "size=int(input(\"Introduce el tamaño del asteroide en m: \"))\n",
    "if size>=25 and vel>=25:\n",
    "    print(\"ADVERTENCIA, un GRAN asteroide se acerca a la Tierra demasiado rapido. PELIGRO\")\n",
    "elif vel>=20:\n",
    "    print(\"Advertencia, Buscar un asteroide en el cielo\")\n",
    "else :\n",
    "    print(\"No existe peligro alguno\")\n",
    "\n",
    "\n"
   ]
  }
 ],
 "metadata": {
  "interpreter": {
   "hash": "09b462219986add32f6a912adf55e88845da2951066497865c3ce1f1f18c24ef"
  },
  "kernelspec": {
   "display_name": "Python 3.10.4 64-bit",
   "language": "python",
   "name": "python3"
  },
  "language_info": {
   "codemirror_mode": {
    "name": "ipython",
    "version": 3
   },
   "file_extension": ".py",
   "mimetype": "text/x-python",
   "name": "python",
   "nbconvert_exporter": "python",
   "pygments_lexer": "ipython3",
   "version": "3.10.4"
  },
  "orig_nbformat": 4
 },
 "nbformat": 4,
 "nbformat_minor": 2
}
