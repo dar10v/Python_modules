{
 "cells": [
  {
   "cell_type": "markdown",
   "metadata": {},
   "source": [
    "# Modulo 5 Katas\n",
    "Ejercicio 1"
   ]
  },
  {
   "cell_type": "code",
   "execution_count": 9,
   "metadata": {},
   "outputs": [
    {
     "name": "stdout",
     "output_type": "stream",
     "text": [
      "La distancia entre Jupiter y la Tierra es de:628949330 Km\n",
      "Y su equivalente en millas es de 390577533.93 millas\n"
     ]
    }
   ],
   "source": [
    "distTierra=149597870 #km\n",
    "distJupiter=778547200 #km\n",
    "distplanetas=abs(distTierra-distJupiter)\n",
    "distmillas=distplanetas*0.621\n",
    "template=\"\"\"La distancia entre Jupiter y la Tierra es de:{} Km\n",
    "Y su equivalente en millas es de {} millas\"\"\"\n",
    "print(template.format(distplanetas,distmillas))\n"
   ]
  },
  {
   "cell_type": "markdown",
   "metadata": {},
   "source": [
    "Ejercicio 2"
   ]
  },
  {
   "cell_type": "code",
   "execution_count": 10,
   "metadata": {},
   "outputs": [
    {
     "name": "stdout",
     "output_type": "stream",
     "text": [
      "La distancia entre los dos planetas es de 50300000 Km\n",
      "Y su equivalente en millas es de 31236300.0\n"
     ]
    }
   ],
   "source": [
    "dist1=int(input(\"Introduce la distancia del sol del primer planeta: \"))\n",
    "dist2=int(input(\"Introduce la distancia del sol del segundo planeta: \"))\n",
    "deltadist=abs(dist1-dist2)\n",
    "deltamillas=deltadist*.621\n",
    "ntemplate=\"\"\"La distancia entre los dos planetas es de {} Km\n",
    "Y su equivalente en millas es de {}\"\"\"\n",
    "print(ntemplate.format(deltadist,deltamillas))\n"
   ]
  }
 ],
 "metadata": {
  "interpreter": {
   "hash": "12821ccfb91c529e48e0dbf9d3867b2d1f4e8eea260d97aa071cf268c0ecb7f1"
  },
  "kernelspec": {
   "display_name": "Python 3.10.4 64-bit (windows store)",
   "language": "python",
   "name": "python3"
  },
  "language_info": {
   "codemirror_mode": {
    "name": "ipython",
    "version": 3
   },
   "file_extension": ".py",
   "mimetype": "text/x-python",
   "name": "python",
   "nbconvert_exporter": "python",
   "pygments_lexer": "ipython3",
   "version": "3.10.4"
  },
  "orig_nbformat": 4
 },
 "nbformat": 4,
 "nbformat_minor": 2
}
